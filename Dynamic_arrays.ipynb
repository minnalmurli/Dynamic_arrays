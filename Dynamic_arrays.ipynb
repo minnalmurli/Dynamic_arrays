{
 "cells": [
  {
   "cell_type": "markdown",
   "id": "791f86ce-14a2-4d62-9325-c921fa7e1446",
   "metadata": {},
   "source": [
    "# Creating a list using Ctypes in Dynamic Array"
   ]
  },
  {
   "cell_type": "code",
   "execution_count": 48,
   "id": "8c5b31cb-4efe-49b9-b4ae-39d013a860f6",
   "metadata": {},
   "outputs": [],
   "source": [
    "import ctypes\n",
    "\n",
    "class list_of_me:\n",
    "    # Creating a List  \n",
    "    def __init__(self):\n",
    "        self.size = 1\n",
    "        self.n = 0\n",
    "        # Create a C-type array with size = self.size\n",
    "        self.A = self.__make_array(self.size)\n",
    "\n",
    "    # Length Function\n",
    "    def __len__(self):\n",
    "        return self.n\n",
    "\n",
    "    # Print Function\n",
    "    def __str__(self):\n",
    "        # [1,2,3]\n",
    "        result = ''\n",
    "        for i in range(self.n):\n",
    "            result += str(self.A[i]) + ','\n",
    "        return '[' + result[:-1] + ']'\n",
    "\n",
    "    # Indexing Function \n",
    "    def __getitem__(self, index):\n",
    "        if 0 <= index < self.n:\n",
    "            return self.A[index]\n",
    "        else:\n",
    "            raise IndexError(\"IndexError: Index out of range\")\n",
    "\n",
    "    # Deleting Function\n",
    "    def __delitem__(self, pos):\n",
    "        if not (0 <= pos < self.n):\n",
    "            raise IndexError(\"IndexError: Index out of range\")\n",
    "        # Shift elements to fill the gap\n",
    "        for i in range(pos, self.n - 1):\n",
    "            self.A[i] = self.A[i + 1]\n",
    "        self.n -= 1\n",
    "        # Resize down if needed\n",
    "        if self.n <= self.size // 4:\n",
    "            self.__resize(self.size // 2)\n",
    "\n",
    "    # Append Function\n",
    "    def append(self, item):\n",
    "        if self.n == self.size:\n",
    "            # Resize if the array is full\n",
    "            self.__resize(self.size * 2)\n",
    "        # Append the item\n",
    "        self.A[self.n] = item\n",
    "        self.n += 1\n",
    "\n",
    "    # Pop Function\n",
    "    def pop(self):\n",
    "        if self.n == 0:\n",
    "            raise IndexError(\"IndexError: Pop from empty list\")\n",
    "        item = self.A[self.n - 1]\n",
    "        self.n -= 1\n",
    "        # Resize down if needed\n",
    "        if self.n <= self.size // 4:\n",
    "            self.__resize(self.size // 2)\n",
    "        return item\n",
    "\n",
    "    # Clear Function\n",
    "    def clear(self):\n",
    "        self.n = 0\n",
    "        self.size = 1\n",
    "        self.A = self.__make_array(self.size)\n",
    "\n",
    "    # Find Function\n",
    "    def find(self, item):\n",
    "        for i in range(self.n):\n",
    "            if self.A[i] == item:\n",
    "                return i\n",
    "        raise ValueError(\"ValueError: Item not in list\")\n",
    "\n",
    "    # Insert Function\n",
    "    def insert(self, pos, item):\n",
    "        if not (0 <= pos <= self.n):\n",
    "            raise IndexError(\"IndexError: Index out of range\")\n",
    "        if self.n == self.size:\n",
    "            self.__resize(self.size * 2)\n",
    "        # Shift elements to make space\n",
    "        for i in range(self.n, pos, -1):\n",
    "            self.A[i] = self.A[i - 1]\n",
    "        self.A[pos] = item\n",
    "        self.n += 1\n",
    "\n",
    "    # Remove Function\n",
    "    def remove(self, item):\n",
    "        pos = self.find(item)\n",
    "        self.__delitem__(pos)\n",
    "\n",
    "    # Resize Array\n",
    "    def __resize(self, new_capacity):\n",
    "        # Creating a new array with new capacity\n",
    "        B = self.__make_array(new_capacity)\n",
    "        # Copy the content of A to new array B\n",
    "        for i in range(self.n):\n",
    "            B[i] = self.A[i]\n",
    "        # Reassign A to the new array\n",
    "        self.A = B\n",
    "        self.size = new_capacity\n",
    "\n",
    "    # Make Array\n",
    "    def __make_array(self, capacity):\n",
    "        # Create a C-type array (Static, Referential) with size capacity\n",
    "        return (capacity * ctypes.py_object)()"
   ]
  },
  {
   "cell_type": "markdown",
   "id": "281be0b6-2b48-442c-aa2c-233195fb99cb",
   "metadata": {},
   "source": [
    "# Appending Elements"
   ]
  },
  {
   "cell_type": "code",
   "execution_count": 50,
   "id": "829a8ffa-fb36-48f9-b649-411cdb64ef63",
   "metadata": {},
   "outputs": [
    {
     "name": "stdout",
     "output_type": "stream",
     "text": [
      "[10,20,30]\n"
     ]
    }
   ],
   "source": [
    "my_list.append(10)\n",
    "my_list.append(20)\n",
    "my_list.append(30)\n",
    "print(my_list)  # Output: [10,20,30]\n"
   ]
  },
  {
   "cell_type": "markdown",
   "id": "c5cd5067-f43a-483f-bd81-2e60d49758f7",
   "metadata": {},
   "source": [
    "# Indexing Elements"
   ]
  },
  {
   "cell_type": "code",
   "execution_count": 54,
   "id": "8efdfad5-0296-46fa-8cab-eaaad12a40ca",
   "metadata": {},
   "outputs": [
    {
     "name": "stdout",
     "output_type": "stream",
     "text": [
      "20\n"
     ]
    },
    {
     "ename": "IndexError",
     "evalue": "IndexError: Index out of range",
     "output_type": "error",
     "traceback": [
      "\u001b[1;31m---------------------------------------------------------------------------\u001b[0m",
      "\u001b[1;31mIndexError\u001b[0m                                Traceback (most recent call last)",
      "Cell \u001b[1;32mIn[54], line 2\u001b[0m\n\u001b[0;32m      1\u001b[0m \u001b[38;5;28mprint\u001b[39m(my_list[\u001b[38;5;241m1\u001b[39m])  \u001b[38;5;66;03m# Output: 20\u001b[39;00m\n\u001b[1;32m----> 2\u001b[0m \u001b[38;5;28mprint\u001b[39m(my_list[\u001b[38;5;241m5\u001b[39m])\n",
      "Cell \u001b[1;32mIn[45], line 28\u001b[0m, in \u001b[0;36mlist_of_me.__getitem__\u001b[1;34m(self, index)\u001b[0m\n\u001b[0;32m     26\u001b[0m     \u001b[38;5;28;01mreturn\u001b[39;00m \u001b[38;5;28mself\u001b[39m\u001b[38;5;241m.\u001b[39mA[index]\n\u001b[0;32m     27\u001b[0m \u001b[38;5;28;01melse\u001b[39;00m:\n\u001b[1;32m---> 28\u001b[0m     \u001b[38;5;28;01mraise\u001b[39;00m \u001b[38;5;167;01mIndexError\u001b[39;00m(\u001b[38;5;124m\"\u001b[39m\u001b[38;5;124mIndexError: Index out of range\u001b[39m\u001b[38;5;124m\"\u001b[39m)\n",
      "\u001b[1;31mIndexError\u001b[0m: IndexError: Index out of range"
     ]
    }
   ],
   "source": [
    "print(my_list[1])  # Output: 20\n",
    "print(my_list[5])  # Output: IndexError - Index-out of range"
   ]
  },
  {
   "cell_type": "markdown",
   "id": "1e9ad168-b46b-4320-9493-51dbd798632a",
   "metadata": {},
   "source": [
    "# Inserting Elements"
   ]
  },
  {
   "cell_type": "code",
   "execution_count": 56,
   "id": "90b64f4d-df3f-4e8b-b3ed-f676b050d170",
   "metadata": {},
   "outputs": [
    {
     "name": "stdout",
     "output_type": "stream",
     "text": [
      "[10,15,20,30]\n"
     ]
    }
   ],
   "source": [
    "my_list.insert(1, 15)  # Insert 15 at index 1\n",
    "print(my_list)  # Output: [10,15,20,30]\n"
   ]
  },
  {
   "cell_type": "markdown",
   "id": "b76a4577-87ca-4c50-b5d7-9f33202a6970",
   "metadata": {},
   "source": [
    "# Removing Elements"
   ]
  },
  {
   "cell_type": "code",
   "execution_count": 58,
   "id": "ef9897ef-4619-4dc0-a2e2-2f49188ea2f2",
   "metadata": {},
   "outputs": [
    {
     "name": "stdout",
     "output_type": "stream",
     "text": [
      "[10,15,30]\n"
     ]
    }
   ],
   "source": [
    "my_list.remove(20)  # Removes the first occurrence of 20\n",
    "print(my_list)  # Output: [10,15,30]\n"
   ]
  },
  {
   "cell_type": "markdown",
   "id": "bde90b91-3c36-499f-b60e-dec1948a1205",
   "metadata": {},
   "source": [
    "# Finding Elements"
   ]
  },
  {
   "cell_type": "code",
   "execution_count": 60,
   "id": "6f8bb45f-29be-46d1-9d1d-1a9544188a76",
   "metadata": {},
   "outputs": [
    {
     "name": "stdout",
     "output_type": "stream",
     "text": [
      "1\n"
     ]
    },
    {
     "ename": "ValueError",
     "evalue": "ValueError: Item not in list",
     "output_type": "error",
     "traceback": [
      "\u001b[1;31m---------------------------------------------------------------------------\u001b[0m",
      "\u001b[1;31mValueError\u001b[0m                                Traceback (most recent call last)",
      "Cell \u001b[1;32mIn[60], line 2\u001b[0m\n\u001b[0;32m      1\u001b[0m \u001b[38;5;28mprint\u001b[39m(my_list\u001b[38;5;241m.\u001b[39mfind(\u001b[38;5;241m15\u001b[39m))  \u001b[38;5;66;03m# Output: 1\u001b[39;00m\n\u001b[1;32m----> 2\u001b[0m \u001b[38;5;28mprint\u001b[39m(my_list\u001b[38;5;241m.\u001b[39mfind(\u001b[38;5;241m50\u001b[39m))\n",
      "Cell \u001b[1;32mIn[45], line 73\u001b[0m, in \u001b[0;36mlist_of_me.find\u001b[1;34m(self, item)\u001b[0m\n\u001b[0;32m     71\u001b[0m     \u001b[38;5;28;01mif\u001b[39;00m \u001b[38;5;28mself\u001b[39m\u001b[38;5;241m.\u001b[39mA[i] \u001b[38;5;241m==\u001b[39m item:\n\u001b[0;32m     72\u001b[0m         \u001b[38;5;28;01mreturn\u001b[39;00m i\n\u001b[1;32m---> 73\u001b[0m \u001b[38;5;28;01mraise\u001b[39;00m \u001b[38;5;167;01mValueError\u001b[39;00m(\u001b[38;5;124m\"\u001b[39m\u001b[38;5;124mValueError: Item not in list\u001b[39m\u001b[38;5;124m\"\u001b[39m)\n",
      "\u001b[1;31mValueError\u001b[0m: ValueError: Item not in list"
     ]
    }
   ],
   "source": [
    "print(my_list.find(15))  # Output: 1\n",
    "print(my_list.find(50))  # Output: ValueError - not in list\n"
   ]
  },
  {
   "cell_type": "markdown",
   "id": "a93931a9-555c-43c8-8ed8-3c70b7c6cfc5",
   "metadata": {},
   "source": [
    "# Deleting by Index"
   ]
  },
  {
   "cell_type": "code",
   "execution_count": 62,
   "id": "bf09a884-127a-467c-b86a-6e0818a08a2e",
   "metadata": {},
   "outputs": [
    {
     "name": "stdout",
     "output_type": "stream",
     "text": [
      "[10,15]\n"
     ]
    }
   ],
   "source": [
    "del my_list[2]  # Removes the element at index 2\n",
    "print(my_list)  # Output: [10,15]\n"
   ]
  },
  {
   "cell_type": "markdown",
   "id": "ab1c81f2-8c76-46b4-aa04-ea93e9973e51",
   "metadata": {},
   "source": [
    "# Clearing the List"
   ]
  },
  {
   "cell_type": "code",
   "execution_count": 64,
   "id": "e479ea69-ed39-4545-bd6d-05ffa96154bf",
   "metadata": {},
   "outputs": [
    {
     "name": "stdout",
     "output_type": "stream",
     "text": [
      "[]\n"
     ]
    }
   ],
   "source": [
    "my_list.clear()\n",
    "print(my_list)  # Output: []\n"
   ]
  },
  {
   "cell_type": "markdown",
   "id": "ca37cac8-5d80-4c66-9742-b4c608414deb",
   "metadata": {},
   "source": [
    "# Getting Length"
   ]
  },
  {
   "cell_type": "code",
   "execution_count": 66,
   "id": "a91f277e-b047-47db-ba9e-14edca177a70",
   "metadata": {},
   "outputs": [
    {
     "name": "stdout",
     "output_type": "stream",
     "text": [
      "0\n"
     ]
    }
   ],
   "source": [
    "print(len(my_list))  # Output: 2\n"
   ]
  },
  {
   "cell_type": "code",
   "execution_count": null,
   "id": "b0dccf7a-57d1-4978-aed7-4a067dd5439e",
   "metadata": {},
   "outputs": [],
   "source": []
  }
 ],
 "metadata": {
  "kernelspec": {
   "display_name": "Python 3 (ipykernel)",
   "language": "python",
   "name": "python3"
  },
  "language_info": {
   "codemirror_mode": {
    "name": "ipython",
    "version": 3
   },
   "file_extension": ".py",
   "mimetype": "text/x-python",
   "name": "python",
   "nbconvert_exporter": "python",
   "pygments_lexer": "ipython3",
   "version": "3.12.7"
  }
 },
 "nbformat": 4,
 "nbformat_minor": 5
}
